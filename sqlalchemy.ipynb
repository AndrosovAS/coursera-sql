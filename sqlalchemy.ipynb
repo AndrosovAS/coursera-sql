{
 "cells": [
  {
   "cell_type": "code",
   "execution_count": 1,
   "metadata": {},
   "outputs": [
    {
     "name": "stdout",
     "output_type": "stream",
     "text": [
      "cenus_data\n",
      "chicago_crime\n",
      "schools\n"
     ]
    }
   ],
   "source": [
    "import numpy as np\n",
    "import pandas as pd\n",
    "\n",
    "from sqlalchemy import select, create_engine, MetaData, func, intersect\n",
    "\n",
    "\n",
    "engine = create_engine('sqlite://', echo=False)\n",
    "connect = engine.connect()\n",
    "\n",
    "\n",
    "# Connect the required databases\n",
    "chicago_crime = pd.read_csv('https://data.cityofchicago.org/resource/ijzp-q8t2.csv')\n",
    "cenus_data = pd.read_csv('https://data.cityofchicago.org/resource/kn9c-c2s2.csv')\n",
    "schools = pd.read_csv('https://data.cityofchicago.org/resource/9xs2-f89t.csv')\n",
    "\n",
    "chicago_crime.to_sql('chicago_crime', con=engine)\n",
    "cenus_data.to_sql('cenus_data', con=engine)\n",
    "schools.to_sql('schools', con=engine)\n",
    "\n",
    "\n",
    "# Заполнить существующую базу данных с помощью отражения в объекты sqlalchemy\n",
    "db = MetaData()\n",
    "db.reflect(bind=engine)\n",
    "\n",
    "# Посмотрим какие таблицы есть в db\n",
    "name_db = db.sorted_tables\n",
    "for t in name_db:\n",
    "    print(t.name)\n",
    "\n",
    "# превращаем DataFrame в Table\n",
    "chicago_crime = db.tables['chicago_crime']\n",
    "cenus_data = db.tables['cenus_data']\n",
    "schools = db.tables['schools']"
   ]
  },
  {
   "cell_type": "code",
   "execution_count": null,
   "metadata": {},
   "outputs": [],
   "source": []
  },
  {
   "cell_type": "code",
   "execution_count": 2,
   "metadata": {},
   "outputs": [
    {
     "name": "stdout",
     "output_type": "stream",
     "text": [
      "Total number of crimes:  (1000,)\n"
     ]
    }
   ],
   "source": [
    "# Задание 1. Найдите общее количество преступлений, записанных в таблице Crime.\n",
    "\n",
    "# +----+----+----+----+----+----+----+----+----+----+----+----+----+----+----+----+\n",
    "# SELECT count(*) AS count\n",
    "# FROM chicago_crime;\n",
    "# +----+----+----+----+----+----+----+----+----+----+----+----+----+----+----+----+\n",
    "\n",
    "\n",
    "# Выведем количество строк в таблице chicago_crime\n",
    "# Результирующая переменная является эквивалентом cursor в DB API.\n",
    "count = connect.execute(select(func.count().label('count')).select_from(chicago_crime))\n",
    "print('Total number of crimes: ', count.fetchone())"
   ]
  },
  {
   "cell_type": "code",
   "execution_count": 3,
   "metadata": {},
   "outputs": [
    {
     "name": "stdout",
     "output_type": "stream",
     "text": [
      "(0, 12746194, 'JF299386', '2022-06-29T23:57:00.000', '045XX S HERMITAGE AVE', '0554', 'ASSAULT', 'AGGRAVATED POLICE OFFICER - HANDS, FISTS, FEET, NO INJURY', 'STREET', True, False, 924, 9, 15, 61, '08A', 1165438.0, 1874640.0, 2022, '2022-07-06T16:50:14.000', 41.811605332, -87.668700581, '\\n,  \\n(41.811605332, -87.668700581)')\n",
      "(1, 12746184, 'JF299379', '2022-06-29T23:55:00.000', '009XX W LAKESIDE PL', '1310', 'CRIMINAL DAMAGE', 'TO PROPERTY', 'VEHICLE NON-COMMERCIAL', False, False, 1914, 19, 46, 3, '14', 1169180.0, 1931740.0, 2022, '2022-07-06T16:50:14.000', 41.968211376, -87.653315307, '\\n,  \\n(41.968211376, -87.653315307)')\n",
      "(2, 12746225, 'JF299368', '2022-06-29T23:53:00.000', '051XX W MADISON ST', '0320', 'ROBBERY', 'STRONG ARM - NO WEAPON', 'SIDEWALK', False, False, 1533, 15, 28, 25, '03', 1142285.0, 1899542.0, 2022, '2022-07-06T16:50:14.000', 41.880399914, -87.753008553, '\\n,  \\n(41.880399914, -87.753008553)')\n",
      "(3, 12746245, 'JF299446', '2022-06-29T23:51:00.000', '087XX S SOUTH CHICAGO AVE', '0930', 'MOTOR VEHICLE THEFT', 'THEFT / RECOVERY - AUTOMOBILE', 'STREET', False, False, 423, 4, 7, 48, '07', 1193904.0, 1847624.0, 2022, '2022-07-06T16:50:14.000', 41.736819983, -87.565175308, '\\n,  \\n(41.736819983, -87.565175308)')\n",
      "(4, 12746235, 'JF299378', '2022-06-29T23:50:00.000', '104XX S GREEN BAY AVE', '1365', 'CRIMINAL TRESPASS', 'TO RESIDENCE', 'RESIDENCE - GARAGE', False, False, 432, 4, 10, 52, '26', 1200514.0, 1836331.0, 2022, '2022-07-06T16:50:14.000', 41.705666649, -87.541339536, '\\n,  \\n(41.705666649, -87.541339536)')\n",
      "(5, 12747147, 'JF299364', '2022-06-29T23:37:00.000', '023XX W ARMITAGE AVE', '0937', 'MOTOR VEHICLE THEFT', 'THEFT / RECOVERY - CYCLE, SCOOTER, BIKE WITH VIN', 'RESIDENCE - GARAGE', False, False, 1432, 14, 32, 22, '07', 1160390.0, 1913225.0, 2022, '2022-07-06T16:50:14.000', 41.917591997, -87.68614954, '\\n,  \\n(41.917591997, -87.68614954)')\n",
      "(6, 12746271, 'JF299477', '2022-06-29T23:30:00.000', '044XX W GLADYS AVE', '1320', 'CRIMINAL DAMAGE', 'TO VEHICLE', 'STREET', False, True, 1131, 11, 28, 26, '14', 1146790.0, 1897985.0, 2022, '2022-07-06T16:50:14.000', 41.87604254, -87.736506226, '\\n,  \\n(41.87604254, -87.736506226)')\n",
      "(7, 12746268, 'JF299358', '2022-06-29T23:30:00.000', '065XX S GREEN ST', '041A', 'BATTERY', 'AGGRAVATED - HANDGUN', 'RESIDENCE - PORCH / HALLWAY', False, False, 723, 7, 6, 68, '04B', 1171762.0, 1861468.0, 2022, '2022-07-06T16:50:14.000', 41.775323369, -87.645890849, '\\n,  \\n(41.775323369, -87.645890849)')\n",
      "(8, 12746163, 'JF299371', '2022-06-29T23:29:00.000', '016XX N PULASKI RD', '143A', 'WEAPONS VIOLATION', 'UNLAWFUL POSSESSION - HANDGUN', 'PARKING LOT / GARAGE (NON RESIDENTIAL)', True, False, 2535, 25, 26, 23, '15', 1149466.0, 1910591.0, 2022, '2022-07-06T16:50:14.000', 41.91058325, -87.726353375, '\\n,  \\n(41.91058325, -87.726353375)')\n",
      "(9, 12746170, 'JF299383', '2022-06-29T23:29:00.000', '032XX W MONROE ST', '1310', 'CRIMINAL DAMAGE', 'TO PROPERTY', 'SCHOOL - PUBLIC GROUNDS', False, False, 1124, 11, 28, 27, '14', 1154551.0, 1899349.0, 2022, '2022-07-06T16:50:14.000', 41.879633871, -87.707973888, '\\n,  \\n(41.879633871, -87.707973888)')\n"
     ]
    }
   ],
   "source": [
    "# Задание 2. Получите первые 10 строк из таблицы CRIME.\n",
    "\n",
    "# +----+----+----+----+----+----+----+----+----+----+----+----+----+----+----+----+\n",
    "# SELECT *\n",
    "# FROM chicago_crime\n",
    "# LIMIT 10;\n",
    "# +----+----+----+----+----+----+----+----+----+----+----+----+----+----+----+----+\n",
    "\n",
    "\n",
    "head = connect.execute(select(chicago_crime).limit(10))\n",
    "row = head.fetchone()\n",
    "while row is not None:\n",
    "    print(row)\n",
    "    row = head.fetchone()"
   ]
  },
  {
   "cell_type": "code",
   "execution_count": 4,
   "metadata": {},
   "outputs": [
    {
     "name": "stdout",
     "output_type": "stream",
     "text": [
      "(134,)\n"
     ]
    }
   ],
   "source": [
    "# Задание 3. По скольким преступлениям был произведен арест?\n",
    "\n",
    "# +----+----+----+----+----+----+----+----+----+----+----+----+----+----+----+----+\n",
    "# SELECT count(*) AS arrest\n",
    "# FROM chicago_crime\n",
    "# WHERE chicago_crime.arrest = True\n",
    "# +----+----+----+----+----+----+----+----+----+----+----+----+----+----+----+----+\n",
    "\n",
    "\n",
    "arrest = select(func.count().label('arrest')).select_from(chicago_crime).where(chicago_crime.c.arrest == True)\n",
    "for row in connect.execute(arrest):\n",
    "    print(row)"
   ]
  },
  {
   "cell_type": "code",
   "execution_count": 5,
   "metadata": {},
   "outputs": [
    {
     "name": "stdout",
     "output_type": "stream",
     "text": [
      "('CRIMINAL TRESPASS',)\n",
      "('THEFT',)\n",
      "('OTHER OFFENSE',)\n",
      "('WEAPONS VIOLATION',)\n",
      "('BATTERY',)\n",
      "('ROBBERY',)\n",
      "('ASSAULT',)\n",
      "('NARCOTICS',)\n"
     ]
    }
   ],
   "source": [
    "# Задание 4. Какие уникальные виды преступлений совершались на автозаправочных станциях (GAS STATION)?\n",
    "\n",
    "# +----+----+----+----+----+----+----+----+----+----+----+----+----+----+----+----+\n",
    "# SELECT DISTINCT chicago_crime.primary_type\n",
    "# FROM chicago_crime\n",
    "# WHERE chicago_crime.location_description = 'GAS STATION'\n",
    "# +----+----+----+----+----+----+----+----+----+----+----+----+----+----+----+----+\n",
    "\n",
    "\n",
    "unique_primary_type = select(chicago_crime.c.primary_type).select_from(chicago_crime).where(chicago_crime.c.location_description == 'GAS STATION').distinct()\n",
    "for row in connect.execute(unique_primary_type):\n",
    "    print(row)\n"
   ]
  },
  {
   "cell_type": "code",
   "execution_count": 6,
   "metadata": {},
   "outputs": [
    {
     "name": "stdout",
     "output_type": "stream",
     "text": [
      "('Belmont Cragin',)\n",
      "('Burnside',)\n",
      "('Bridgeport',)\n",
      "('Beverly',)\n"
     ]
    }
   ],
   "source": [
    "# Задание 5. Получите из таблицы данных переписи CENUS_DATA все районы (community areas), названия которых начинаются с буквы «B» и в которых совершались преступления.\n",
    "\n",
    "# +----+----+----+----+----+----+----+----+----+----+----+----+----+----+----+----+\n",
    "# SELECT cenus_data.community_area_name\n",
    "# FROM cenus_data\n",
    "# WHERE\n",
    "# cenus_data.community_area_name LIKE 'B%' AND\n",
    "# cenus_data.ca IN (SELECT DISTINCT chicago_crime.community_area FROM chicago_crime)\n",
    "# +----+----+----+----+----+----+----+----+----+----+----+----+----+----+----+----+\n",
    "\n",
    "\n",
    "subq = select(chicago_crime.c.community_area).select_from(chicago_crime).distinct()\n",
    "criminal_areas = select(cenus_data.c.community_area_name).select_from(cenus_data).where(\n",
    "    cenus_data.c.community_area_name.like('B%'), cenus_data.c.ca.in_(subq)\n",
    ")\n",
    "for row in connect.execute(criminal_areas):\n",
    "    print(row)"
   ]
  },
  {
   "cell_type": "code",
   "execution_count": 7,
   "metadata": {},
   "outputs": [
    {
     "name": "stdout",
     "output_type": "stream",
     "text": [
      "('Ana Roque de Duprey Elementary School',)\n",
      "('Cyrus H McCormick Elementary School',)\n",
      "('Eli Whitney Elementary School',)\n",
      "('Francisco I Madero Middle School',)\n",
      "('Irma C Ruiz Elementary School',)\n",
      "('John A Walsh Elementary School',)\n",
      "('Jose De Diego Elementary Community Academy',)\n",
      "('Manuel Perez Elementary School',)\n"
     ]
    }
   ],
   "source": [
    "# Задание 6. Получите список школ в округах с 10 по 15, имеющих сертификат здоровья (healthy school certified)\n",
    "\n",
    "#+----+----+----+----+----+----+----+----+----+----+----+----+----+----+----+----+\n",
    "# SELECT schools.name_of_school\n",
    "# FROM schools\n",
    "# WHERE schools.police_district >= 10 AND schools.police_district <= 15 AND schools.healthy_schools_certified_ = 'Yes'\n",
    "#+----+----+----+----+----+----+----+----+----+----+----+----+----+----+----+----+\n",
    "\n",
    "\n",
    "healthy_school = select(schools.c.name_of_school).select_from(schools).where(\n",
    "    schools.c.police_district >= 10, schools.c.police_district <= 15, schools.c.healthy_schools_certified_ == 'Yes'\n",
    ")\n",
    "for row in connect.execute(healthy_school):\n",
    "    print(row)"
   ]
  },
  {
   "cell_type": "code",
   "execution_count": 8,
   "metadata": {},
   "outputs": [
    {
     "name": "stdout",
     "output_type": "stream",
     "text": [
      "(49.50487329434698,)\n"
     ]
    }
   ],
   "source": [
    "# Задание 7. Вычислите средний рейтинг безопасности (Safety Score) всех школ.\n",
    "\n",
    "#+----+----+----+----+----+----+----+----+----+----+----+----+----+----+----+----+\n",
    "# SELECT avg(schools.safety_score) AS avg\n",
    "# FROM schools\n",
    "#+----+----+----+----+----+----+----+----+----+----+----+----+----+----+----+----+\n",
    "\n",
    "\n",
    "avg_safety_score = select(func.avg(schools.c.safety_score).label('avg'))\n",
    "for row in connect.execute(avg_safety_score):\n",
    "    print(row)"
   ]
  },
  {
   "cell_type": "code",
   "execution_count": 9,
   "metadata": {},
   "outputs": [
    {
     "name": "stdout",
     "output_type": "stream",
     "text": [
      "(1053, 'NORTH PARK')\n",
      "(967, 'WEST ELSDON')\n",
      "(915, 'KENWOOD')\n",
      "(881, 'NEAR NORTH SIDE')\n",
      "(871, 'LOOP')\n"
     ]
    }
   ],
   "source": [
    "# Задание 8. Получите список из 5 районов с наибольшим средним количеством учеников, поступивших в колледж (College Enrollments).\n",
    "\n",
    "#+----+----+----+----+----+----+----+----+----+----+----+----+----+----+----+----+\n",
    "# SELECT s.college_enrollment_number_of_students_, s.community_area_name\n",
    "# FROM\n",
    "# (SELECT * FROM schools WHERE schools.name_of_school LIKE '%College%') AS s\n",
    "# ORDER BY s.college_enrollment_number_of_students_ DESC\n",
    "#+----+----+----+----+----+----+----+----+----+----+----+----+----+----+----+----+\n",
    "\n",
    "\n",
    "subq = select(schools).where(schools.c.name_of_school.like('%College%')).subquery()\n",
    "smart_area = select(subq.c.college_enrollment_number_of_students_, subq.c.community_area_name).select_from(subq).order_by(subq.c.college_enrollment_number_of_students_.desc()).limit(5)\n",
    "for row in connect.execute(smart_area):\n",
    "    print(row)"
   ]
  },
  {
   "cell_type": "code",
   "execution_count": 10,
   "metadata": {},
   "outputs": [
    {
     "name": "stdout",
     "output_type": "stream",
     "text": [
      "('WASHINGTON PARK',)\n"
     ]
    }
   ],
   "source": [
    "# Задание 9. Найдите район с самым низким рейтингом безопасности (Safety Score), используя подзапрос.\n",
    "\n",
    "#+----+----+----+----+----+----+----+----+----+----+----+----+----+----+----+----+\n",
    "# SELECT subq.community_area_name\n",
    "# FROM (SELECT schools.community_area_name AS community_area_name, min(schools.safety_score) FROM schools) AS subq\n",
    "#+----+----+----+----+----+----+----+----+----+----+----+----+----+----+----+----+\n",
    "\n",
    "\n",
    "subq = select(schools.c.community_area_name, func.min(schools.c.safety_score)).select_from(schools).subquery()\n",
    "low_safety_score = select(subq.c.community_area_name).select_from(subq)\n",
    "for row in connect.execute(low_safety_score):\n",
    "    print(row)"
   ]
  },
  {
   "cell_type": "code",
   "execution_count": 11,
   "metadata": {},
   "outputs": [
    {
     "name": "stdout",
     "output_type": "stream",
     "text": [
      "('Washington Park',)\n"
     ]
    }
   ],
   "source": [
    "# Задание 10. Получите информацию о доходе на душу населения в районе, где рейтинг безопасности школ равен 1.\n",
    "\n",
    "#+----+----+----+----+----+----+----+----+----+----+----+----+----+----+----+----+\n",
    "# SELECT cenus_data.community_area_name \n",
    "# FROM cenus_data \n",
    "# WHERE lower(cenus_data.community_area_name) IN (\n",
    "#     SELECT lower(schools.community_area_name) AS lower_1 \n",
    "#     FROM schools \n",
    "#     WHERE schools.safety_score = 1\n",
    "# )\n",
    "#+----+----+----+----+----+----+----+----+----+----+----+----+----+----+----+----+\n",
    "\n",
    "schools_area = select(func.lower(schools.c.community_area_name)).select_from(schools).where(schools.c.safety_score == 1)\n",
    "per_capita_income = select(cenus_data.c.community_area_name).select_from(cenus_data).where(\n",
    "    func.lower(cenus_data.c.community_area_name).in_(schools_area)\n",
    ")\n",
    "for row in connect.execute(per_capita_income):\n",
    "    print(row)"
   ]
  },
  {
   "cell_type": "code",
   "execution_count": null,
   "metadata": {},
   "outputs": [],
   "source": []
  }
 ],
 "metadata": {
  "kernelspec": {
   "display_name": "Python 3",
   "language": "python",
   "name": "python3"
  },
  "language_info": {
   "codemirror_mode": {
    "name": "ipython",
    "version": 3
   },
   "file_extension": ".py",
   "mimetype": "text/x-python",
   "name": "python",
   "nbconvert_exporter": "python",
   "pygments_lexer": "ipython3",
   "version": "3.8.10"
  }
 },
 "nbformat": 4,
 "nbformat_minor": 4
}
